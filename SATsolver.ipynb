{
 "cells": [
  {
   "cell_type": "code",
   "execution_count": 130,
   "metadata": {},
   "outputs": [],
   "source": [
    "#load SAT File\n",
    "def loadfile(filename):    \n",
    "    f = open(filename, 'r')\n",
    "\n",
    "#     f = f.encode('utf-8')\n",
    "    clauses = []\n",
    "    start = False\n",
    "    answer_line = False\n",
    "    for line in f.readlines():\n",
    "        line = line.strip().split()\n",
    "        if answer_line == True:\n",
    "            answer = line[0]\n",
    "            break;\n",
    "        if '%' in line:\n",
    "            answer_line = True\n",
    "        elif start == True:\n",
    "            clauses.append([int(i) for i in line][:-1])\n",
    "        elif line[0] == 'p':\n",
    "            start = True\n",
    "\n",
    "    return clauses"
   ]
  },
  {
   "cell_type": "code",
   "execution_count": 153,
   "metadata": {},
   "outputs": [],
   "source": [
    "def solveSAT(filename):\n",
    "    clauses = loadfile(filename)\n",
    "    if clauses == []:\n",
    "        return True\n",
    "    # find unit clauses\n",
    "    lc = [item for sublist in clauses for item in sublist]\n",
    "    PL_list = findPL(lc)\n",
    "    \n",
    "    \n",
    "    while PL_list:\n",
    "        clauses = delClause(clauses,PL_list[0])\n",
    "        clauses = delElem(clauses,-PL_list[0])\n",
    "        PL_list.remove(PL_list[0])\n",
    "    UC_list = findUC(clauses)\n",
    "    while UC_list:\n",
    "        if UC_list[0] > 0:\n",
    "            clauses = delClause(clauses,UC_list[0])\n",
    "            clauses = delElem(clauses,-UC_list[0])\n",
    "        else:\n",
    "            clauses = delElem(clauses,UC_list[0])\n",
    "            clauses = delClause(clauses,-UC_list[0])\n",
    "        del UC_list[0]\n",
    "    lc = [item for sublist in clauses for item in sublist]\n",
    "    if len(lc) != 0:\n",
    "        mx = max(lc)\n",
    "    else:\n",
    "        mx = -1\n",
    "    return brutal(clauses,mx)"
   ]
  },
  {
   "cell_type": "code",
   "execution_count": 154,
   "metadata": {},
   "outputs": [],
   "source": [
    "#brutal force\n",
    "def brutal(clauses,mx):\n",
    "    if not clauses:\n",
    "        return True\n",
    "    if [] in clauses:\n",
    "        return False\n",
    "    if mx==0:\n",
    "        return clauses\n",
    "    # set to True\n",
    "    clauses1 = delClause(clauses,mx)\n",
    "    clauses1 = delElem(clauses1,-mx)\n",
    "    # set to False\n",
    "    clauses2 = delClause(clauses,-mx)\n",
    "    clauses2 = delElem(clauses2,mx)\n",
    "    return brutal(clauses1,mx-1) or brutal(clauses2,mx-1)"
   ]
  },
  {
   "cell_type": "code",
   "execution_count": 133,
   "metadata": {},
   "outputs": [],
   "source": [
    "def findPL(lst):\n",
    "    res = []\n",
    "    for item in lst:\n",
    "        if -item not in lst:\n",
    "            if item not in res:\n",
    "                res.append(item)\n",
    "    return res"
   ]
  },
  {
   "cell_type": "code",
   "execution_count": 134,
   "metadata": {},
   "outputs": [],
   "source": [
    "def delClause(clause_list,PL):\n",
    "    i = 0\n",
    "    res = clause_list.copy()\n",
    "    for i in range(len(clause_list)):\n",
    "        if PL in clause_list[i]:\n",
    "            res = [res[k] for k in range(len(res)) if PL not in res[k] ]\n",
    "    return res\n",
    "     "
   ]
  },
  {
   "cell_type": "code",
   "execution_count": 135,
   "metadata": {},
   "outputs": [],
   "source": [
    "def findUC(clause_list):\n",
    "    res = []\n",
    "    for c in clause_list:\n",
    "        if len(c) == 1:\n",
    "            res.append(c[0])\n",
    "    return res"
   ]
  },
  {
   "cell_type": "code",
   "execution_count": 136,
   "metadata": {},
   "outputs": [],
   "source": [
    "def delElem(clause_list,elem):\n",
    "    res = []\n",
    "    for c in clause_list:\n",
    "        tmp = c.copy()\n",
    "        if elem in tmp:\n",
    "            tmp.remove(elem)\n",
    "        res.append(tmp)\n",
    "    return res"
   ]
  },
  {
   "cell_type": "code",
   "execution_count": null,
   "metadata": {},
   "outputs": [],
   "source": []
  },
  {
   "cell_type": "markdown",
   "metadata": {},
   "source": [
    "# Test"
   ]
  },
  {
   "cell_type": "code",
   "execution_count": 159,
   "metadata": {},
   "outputs": [
    {
     "name": "stdout",
     "output_type": "stream",
     "text": [
      "20 variables, 91 clauses - 1000 instances, all satisfiable\n",
      "success\n"
     ]
    }
   ],
   "source": [
    "print('20 variables, 91 clauses - 1000 instances, all satisfiable')\n",
    "res = []\n",
    "for i in range(1,101):\n",
    "    filename = 'uf20-91/uf20-0'+str(i)+'.cnf'\n",
    "    res.append(solveSAT(filename))\n",
    "# res\n",
    "if res == [True]*100:\n",
    "    print('success')\n",
    "else:\n",
    "    print('failed')\n"
   ]
  },
  {
   "cell_type": "code",
   "execution_count": 147,
   "metadata": {},
   "outputs": [
    {
     "data": {
      "text/plain": [
       "False"
      ]
     },
     "execution_count": 147,
     "metadata": {},
     "output_type": "execute_result"
    }
   ],
   "source": [
    "solveSAT('SATtest/test4.txt')"
   ]
  },
  {
   "cell_type": "code",
   "execution_count": 148,
   "metadata": {},
   "outputs": [
    {
     "data": {
      "text/plain": [
       "True"
      ]
     },
     "execution_count": 148,
     "metadata": {},
     "output_type": "execute_result"
    }
   ],
   "source": [
    "solveSAT('SATtest/empty.txt')"
   ]
  },
  {
   "cell_type": "code",
   "execution_count": 155,
   "metadata": {},
   "outputs": [
    {
     "data": {
      "text/plain": [
       "True"
      ]
     },
     "execution_count": 155,
     "metadata": {},
     "output_type": "execute_result"
    }
   ],
   "source": [
    "solveSAT('SATtest/test1.txt')"
   ]
  },
  {
   "cell_type": "code",
   "execution_count": 156,
   "metadata": {},
   "outputs": [
    {
     "data": {
      "text/plain": [
       "False"
      ]
     },
     "execution_count": 156,
     "metadata": {},
     "output_type": "execute_result"
    }
   ],
   "source": [
    "solveSAT('SATtest/test2.txt')"
   ]
  },
  {
   "cell_type": "code",
   "execution_count": 152,
   "metadata": {},
   "outputs": [
    {
     "data": {
      "text/plain": [
       "True"
      ]
     },
     "execution_count": 152,
     "metadata": {},
     "output_type": "execute_result"
    }
   ],
   "source": [
    "solveSAT('SATtest/test3.txt')"
   ]
  },
  {
   "cell_type": "code",
   "execution_count": null,
   "metadata": {},
   "outputs": [],
   "source": []
  }
 ],
 "metadata": {
  "kernelspec": {
   "display_name": "Python 3.7.4 64-bit",
   "language": "python",
   "name": "python37464bit3522fa8ebaf74843b0694d7be655758f"
  },
  "language_info": {
   "codemirror_mode": {
    "name": "ipython",
    "version": 3
   },
   "file_extension": ".py",
   "mimetype": "text/x-python",
   "name": "python",
   "nbconvert_exporter": "python",
   "pygments_lexer": "ipython3",
   "version": "3.7.4"
  }
 },
 "nbformat": 4,
 "nbformat_minor": 4
}
